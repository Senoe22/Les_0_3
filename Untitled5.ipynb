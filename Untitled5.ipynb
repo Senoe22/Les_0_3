{
 "cells": [
  {
   "cell_type": "code",
   "execution_count": 4,
   "metadata": {},
   "outputs": [
    {
     "name": "stdout",
     "output_type": "stream",
     "text": [
      "Введите слово - молоко\n",
      "Результат -  ло\n"
     ]
    }
   ],
   "source": [
    "# Задача 1\n",
    "word = input('Введите слово - ')\n",
    "a = len(word)\n",
    "b = a // 2\n",
    "if a %2 == 0:\n",
    "    print('Результат - ', word[b-1:b+1])\n",
    "else:\n",
    "    print('Результат', word[b])"
   ]
  },
  {
   "cell_type": "code",
   "execution_count": 11,
   "metadata": {},
   "outputs": [
    {
     "name": "stdout",
     "output_type": "stream",
     "text": [
      "Введите цифру - 3\n",
      "Введите цифру - 5\n",
      "Введите цифру - 0\n",
      "Результат -  8\n"
     ]
    }
   ],
   "source": [
    "# Задача 2\n",
    "sum_result = 0\n",
    "while True: \n",
    "    n = int(input('Введите цифру - '))\n",
    "    if n == 0:\n",
    "        break\n",
    "    sum_result += n\n",
    "     \n",
    "print('Результат - ', sum_result) \n"
   ]
  },
  {
   "cell_type": "code",
   "execution_count": 9,
   "metadata": {
    "scrolled": false
   },
   "outputs": [
    {
     "name": "stdout",
     "output_type": "stream",
     "text": [
      "Лучшие пары:\n",
      "Alex и Chloe\n",
      "Artur и Claire\n",
      "John и Emma\n",
      "Leo и Kate\n",
      "Mark и Kira\n",
      "Ollis и Lisa\n",
      "Peter и Ole\n",
      "Richard и Trisha\n"
     ]
    }
   ],
   "source": [
    "# Задача 3 НОВОЕ РЕШЕНИЕ\n",
    "boys = ['Peter','John','Artur','Richard','Alex', 'Mark', 'Ollis', 'Leo']\n",
    "girls = ['Kate','Lisa','Kira','Emma','Trisha','Ole', 'Claire', 'Chloe']\n",
    "if len(boys) != len(girls):\n",
    "    print('Внимание, кто-то может остаться без пары!')\n",
    "else:\n",
    "    print('Лучшие пары:')\n",
    "    for boys, girls in zip(sorted(boys), sorted(girls)):\n",
    "        print(f'{boys} и {girls}')"
   ]
  },
  {
   "cell_type": "code",
   "execution_count": 34,
   "metadata": {},
   "outputs": [
    {
     "name": "stdout",
     "output_type": "stream",
     "text": [
      "Средняя температура в странах:\n",
      "Thailand - 23.857142857142854 С\n",
      "Germany - 13.799999999999999 С\n",
      "Russia - 3.714285714285717 С\n",
      "Poland - 11.999999999999998 С\n"
     ]
    }
   ],
   "source": [
    "# Задача 4 НОВОЕ РЕШЕНИЕ\n",
    "my_list = [\n",
    "['Thailand',[75.2, 77, 78.8, 73.4, 68, 75.2, 77]], \n",
    "['Germany', [57.2, 55.4, 59, 59, 53.6]], \n",
    "['Russia', [35.6, 37.4, 39.2, 41, 42.8, 39.2, 35.6]],\n",
    "['Poland', [50, 50, 53.6, 57.2, 55.4, 55.4]]\n",
    "]\n",
    "print('Средняя температура в странах:')\n",
    "i = 0\n",
    "for item in my_list:\n",
    "    res= 5 / 9 * (sum(my_list[i][1])/len(my_list[i][1]) - 32)\n",
    "    print(my_list[i][0], '-', res, 'С')\n",
    "    i = i + 1"
   ]
  },
  {
   "cell_type": "code",
   "execution_count": 1,
   "metadata": {},
   "outputs": [
    {
     "name": "stdout",
     "output_type": "stream",
     "text": [
      "Идеальные пары:\n",
      "Alex и Chloe\n",
      "Artur и Claire\n",
      "John и Emma\n",
      "Leo и Kate\n",
      "Mark и Kira\n",
      "Ollis и Lisa\n",
      "Peter и Ole\n",
      "Richard и Trisha\n"
     ]
    }
   ],
   "source": [
    "# Задача 3 ПРЕДЫДУЩЕЕ РЕШЕНИЕ\n",
    "boys = ['Peter','John','Artur','Richard','Alex', 'Mark', 'Ollis', 'Leo']\n",
    "girls = ['Kate','Lisa','Kira','Emma','Trisha','Ole', 'Claire', 'Chloe']\n",
    "a = len(boys)\n",
    "b = len(girls)\n",
    "\n",
    "if a == b:\n",
    "#сортируем мужчин\n",
    "    m = 1\n",
    "    while m <= a:\n",
    "        n = 1\n",
    "        while n <= a - 1:\n",
    "            if boys[a - n] < boys[a - n - 1]:\n",
    "                boys[a - n - 1: a - n + 1] = boys[a - n], boys[a - n - 1]   \n",
    "            n = n + 1\n",
    "        m = m + 1\n",
    "\n",
    "#сортируем девушек\n",
    "    k = 1\n",
    "    while k <= b:\n",
    "        y = 1\n",
    "        while y <= b - 1:\n",
    "            if girls[b - y] < girls[b - y - 1]:\n",
    "                girls[b - y - 1: b - y + 1] = girls[b - y], girls[b - y - 1]   \n",
    "            y = y + 1\n",
    "        k = k + 1\n",
    "        \n",
    "    print(\"Идеальные пары:\")\n",
    "    u = 0\n",
    "    while u <= a - 1:\n",
    "        b_g = boys[u]+' и '+girls[u]\n",
    "        u = u + 1\n",
    "        print(b_g)\n",
    "else:\n",
    "    print('Внимание, кто-то может остаться без пары!')  "
   ]
  },
  {
   "cell_type": "code",
   "execution_count": 114,
   "metadata": {},
   "outputs": [
    {
     "name": "stdout",
     "output_type": "stream",
     "text": [
      "Средняя температура в странах:\n",
      "Thailand - 23.857142857142858 С\n",
      "Germany - 13.8 С\n",
      "Russia - 3.7142857142857144 С\n",
      "Poland - 12.0 С\n"
     ]
    }
   ],
   "source": [
    "# Задача 4 ПРЕДЫДУЩЕЕ РЕШЕНИЕ\n",
    "countries_temp = [\n",
    "['Thailand',[75.2, 77, 78.8, 73.4, 68, 75.2, 77]], \n",
    "['Germany', [57.2, 55.4, 59, 59, 53.6]], \n",
    "['Russia', [35.6, 37.4, 39.2, 41, 42.8, 39.2, 35.6]],\n",
    "['Poland', [50, 50, 53.6, 57.2, 55.4, 55.4]]\n",
    "]\n",
    "\n",
    "print('Средняя температура в странах:')\n",
    "\n",
    "# Итерация для первой страны\n",
    "a_1=len(countries_temp[0][1])\n",
    "c = [(5/9*(x-32)) for x in countries_temp[0][1]]\n",
    "sum=0\n",
    "for i in c:\n",
    "    sum +=i\n",
    "average_1 = sum / a_1\n",
    "print(countries_temp[0][0],'-', average_1, 'С')\n",
    "\n",
    "# Итерация для второй страны\n",
    "a_2=len(countries_temp[1][1])\n",
    "c = [(5/9*(x-32)) for x in countries_temp[1][1]]\n",
    "sum=0\n",
    "for i in c:\n",
    "    sum +=i\n",
    "average_2 = sum / a_2\n",
    "print(countries_temp[1][0],'-', average_2, 'С')\n",
    "\n",
    "# Итерация для третьей страны\n",
    "a_3=len(countries_temp[2][1])\n",
    "c = [(5/9*(x-32)) for x in countries_temp[2][1]]\n",
    "sum=0\n",
    "for i in c:\n",
    "    sum +=i\n",
    "average_3 = sum / a_3\n",
    "print(countries_temp[2][0],'-', average_3, 'С')\n",
    "\n",
    "# Итерация для четвертой страны\n",
    "a_4=len(countries_temp[3][1])\n",
    "c = [(5/9*(x-32)) for x in countries_temp[3][1]]\n",
    "sum=0\n",
    "for i in c:\n",
    "    sum +=i\n",
    "average_4 = sum / a_4\n",
    "print(countries_temp[3][0],'-', average_4, 'С')"
   ]
  }
 ],
 "metadata": {
  "kernelspec": {
   "display_name": "Python 3",
   "language": "python",
   "name": "python3"
  },
  "language_info": {
   "codemirror_mode": {
    "name": "ipython",
    "version": 3
   },
   "file_extension": ".py",
   "mimetype": "text/x-python",
   "name": "python",
   "nbconvert_exporter": "python",
   "pygments_lexer": "ipython3",
   "version": "3.8.3"
  }
 },
 "nbformat": 4,
 "nbformat_minor": 4
}
